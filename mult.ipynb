{
 "cells": [
  {
   "cell_type": "code",
   "execution_count": 9,
   "id": "60773677-1937-44c3-ba90-c2fdcbfab63d",
   "metadata": {},
   "outputs": [],
   "source": [
    "import numdifftools as nd\n",
    "import numpy as np"
   ]
  },
  {
   "cell_type": "code",
   "execution_count": 93,
   "id": "ff3ef704-5e23-471c-a4bc-fdbecc669033",
   "metadata": {},
   "outputs": [],
   "source": [
    "def multi_newtons(x0, f, tol=1e-5):\n",
    "    x = x0\n",
    "    H0 = np.linalg.inv(nd.Hessian(f)(x0))\n",
    "    grad0 = nd.Gradient(f)(x0)\n",
    "    x1 = x - H0@grad0\n",
    "\n",
    "    while abs(x1 - x) > tol:\n",
    "        x = x1\n",
    "        H = np.linalg.inv(nd.core.Hessian(f(x)))\n",
    "        grad = nd.core.Gradient(f(x))\n",
    "        x1 = x - Hgrad\n",
    "        \n",
    "    return x1"
   ]
  },
  {
   "cell_type": "code",
   "execution_count": 94,
   "id": "eddece1c-a968-4977-9d80-612bf0333db1",
   "metadata": {},
   "outputs": [
    {
     "ename": "TypeError",
     "evalue": "'>' not supported between instances of 'builtin_function_or_method' and 'float'",
     "output_type": "error",
     "traceback": [
      "\u001b[31m---------------------------------------------------------------------------\u001b[39m",
      "\u001b[31mTypeError\u001b[39m                                 Traceback (most recent call last)",
      "\u001b[36mCell\u001b[39m\u001b[36m \u001b[39m\u001b[32mIn[94]\u001b[39m\u001b[32m, line 4\u001b[39m\n\u001b[32m      1\u001b[39m \u001b[38;5;28;01mdef\u001b[39;00m\u001b[38;5;250m \u001b[39m\u001b[34mmath\u001b[39m(x):\n\u001b[32m      2\u001b[39m     \u001b[38;5;28;01mreturn\u001b[39;00m np.cos(x[\u001b[32m0\u001b[39m]) + np.sin(x[\u001b[32m1\u001b[39m])\n\u001b[32m----> \u001b[39m\u001b[32m4\u001b[39m \u001b[43mmulti_newtons\u001b[49m\u001b[43m(\u001b[49m\u001b[43m(\u001b[49m\u001b[43m[\u001b[49m\u001b[32;43m2.95\u001b[39;49m\u001b[43m,\u001b[49m\u001b[43m \u001b[49m\u001b[32;43m2.95\u001b[39;49m\u001b[43m]\u001b[49m\u001b[43m)\u001b[49m\u001b[43m,\u001b[49m\u001b[43m \u001b[49m\u001b[43mmath\u001b[49m\u001b[43m)\u001b[49m\n",
      "\u001b[36mCell\u001b[39m\u001b[36m \u001b[39m\u001b[32mIn[93]\u001b[39m\u001b[32m, line 7\u001b[39m, in \u001b[36mmulti_newtons\u001b[39m\u001b[34m(x0, f, tol)\u001b[39m\n\u001b[32m      4\u001b[39m grad0 = nd.Gradient(f)(x0)\n\u001b[32m      5\u001b[39m x1 = x - H0\u001b[38;5;129m@grad0\u001b[39m\n\u001b[32m----> \u001b[39m\u001b[32m7\u001b[39m \u001b[38;5;28;01mwhile\u001b[39;00m \u001b[38;5;28;43mabs\u001b[39;49m\u001b[43m(\u001b[49m\u001b[43mx1\u001b[49m\u001b[43m \u001b[49m\u001b[43m-\u001b[49m\u001b[43m \u001b[49m\u001b[43mx\u001b[49m\u001b[43m)\u001b[49m\u001b[43m.\u001b[49m\u001b[43mall\u001b[49m\u001b[43m \u001b[49m\u001b[43m>\u001b[49m\u001b[43m \u001b[49m\u001b[43mtol\u001b[49m:\n\u001b[32m      8\u001b[39m     x = x1\n\u001b[32m      9\u001b[39m     H = np.linalg.inv(nd.core.Hessian(f(x)))\n",
      "\u001b[31mTypeError\u001b[39m: '>' not supported between instances of 'builtin_function_or_method' and 'float'"
     ]
    }
   ],
   "source": [
    "def math(x):\n",
    "    return np.cos(x[0]) + np.sin(x[1])\n",
    "\n",
    "multi_newtons(([2.95, 2.95]), math)"
   ]
  },
  {
   "cell_type": "code",
   "execution_count": null,
   "id": "a65f0224-f01a-466f-b8d8-d4be74170d2f",
   "metadata": {},
   "outputs": [],
   "source": []
  }
 ],
 "metadata": {
  "kernelspec": {
   "display_name": "Python 3 (ipykernel)",
   "language": "python",
   "name": "python3"
  },
  "language_info": {
   "codemirror_mode": {
    "name": "ipython",
    "version": 3
   },
   "file_extension": ".py",
   "mimetype": "text/x-python",
   "name": "python",
   "nbconvert_exporter": "python",
   "pygments_lexer": "ipython3",
   "version": "3.11.13"
  }
 },
 "nbformat": 4,
 "nbformat_minor": 5
}
