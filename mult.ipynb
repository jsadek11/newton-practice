{
 "cells": [
  {
   "cell_type": "code",
   "execution_count": 9,
   "id": "60773677-1937-44c3-ba90-c2fdcbfab63d",
   "metadata": {},
   "outputs": [],
   "source": [
    "import numdifftools as nd\n",
    "import numpy as np"
   ]
  },
  {
   "cell_type": "code",
   "execution_count": 97,
   "id": "ff3ef704-5e23-471c-a4bc-fdbecc669033",
   "metadata": {},
   "outputs": [],
   "source": [
    "def multi_newtons(x0, f, tol=1e-5):\n",
    "    x = x0\n",
    "    H0 = np.linalg.inv(nd.Hessian(f)(x0))\n",
    "    grad0 = nd.Gradient(f)(x0)\n",
    "    x1 = x - H0@grad0\n",
    "\n",
    "    #while abs(x1 - x) > tol:\n",
    "     #   x = x1\n",
    "      #  H = np.linalg.inv(nd.core.Hessian(f(x)))\n",
    "       # grad = nd.core.Gradient(f(x))\n",
    "        #x1 = x - Hgrad\n",
    "        \n",
    "    return x1"
   ]
  },
  {
   "cell_type": "code",
   "execution_count": 98,
   "id": "eddece1c-a968-4977-9d80-612bf0333db1",
   "metadata": {},
   "outputs": [
    {
     "data": {
      "text/plain": [
       "array([ 3.14397191, -2.20538575])"
      ]
     },
     "execution_count": 98,
     "metadata": {},
     "output_type": "execute_result"
    }
   ],
   "source": [
    "def math(x):\n",
    "    return np.cos(x[0]) + np.sin(x[1])\n",
    "\n",
    "multi_newtons(([2.95, 2.95]), math)"
   ]
  },
  {
   "cell_type": "code",
   "execution_count": null,
   "id": "a65f0224-f01a-466f-b8d8-d4be74170d2f",
   "metadata": {},
   "outputs": [],
   "source": []
  }
 ],
 "metadata": {
  "kernelspec": {
   "display_name": "Python 3 (ipykernel)",
   "language": "python",
   "name": "python3"
  },
  "language_info": {
   "codemirror_mode": {
    "name": "ipython",
    "version": 3
   },
   "file_extension": ".py",
   "mimetype": "text/x-python",
   "name": "python",
   "nbconvert_exporter": "python",
   "pygments_lexer": "ipython3",
   "version": "3.11.13"
  }
 },
 "nbformat": 4,
 "nbformat_minor": 5
}
